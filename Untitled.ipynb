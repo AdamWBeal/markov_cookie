{
 "cells": [
  {
   "cell_type": "code",
   "execution_count": 31,
   "metadata": {
    "collapsed": true
   },
   "outputs": [],
   "source": [
    "import pandas as pd\n",
    "import numpy as np\n",
    "import requests\n",
    "from bs4 import BeautifulSoup\n",
    "import datetime"
   ]
  },
  {
   "cell_type": "code",
   "execution_count": 38,
   "metadata": {
    "collapsed": false
   },
   "outputs": [
    {
     "name": "stdout",
     "output_type": "stream",
     "text": [
      "start time: 2017-04-11 12:02:24.289607\n",
      "\n",
      "\n",
      "finish time: 2017-04-11 12:02:26.228715\n",
      "\n",
      "time elapsed: 0:00:01.939108\n"
     ]
    }
   ],
   "source": [
    "glass_url_1 = 'http://www.fortunecookiemessage.com/archive.php?start='\n",
    "cookies = []\n",
    "\n",
    "start = datetime.datetime.now()\n",
    "print 'start time: %s\\n' %start\n",
    "\n",
    "for page in range(0,800,50):\n",
    "#     time.sleep(1.5)\n",
    "    r = requests.get(glass_url_1+str(page))\n",
    "    soup = BeautifulSoup(r.content, \"lxml\")\n",
    "    for i in soup.findAll('tr'):\n",
    "        cookie = i.find('a')['href']\n",
    "        cookies.append(cookie)\n",
    "        \n",
    "finish = datetime.datetime.now()\n",
    "print '\\nfinish time: %s' %finish\n",
    "print '\\ntime elapsed: %s' %(finish - start)"
   ]
  },
  {
   "cell_type": "code",
   "execution_count": null,
   "metadata": {
    "collapsed": false
   },
   "outputs": [],
   "source": []
  },
  {
   "cell_type": "code",
   "execution_count": 27,
   "metadata": {
    "collapsed": false
   },
   "outputs": [
    {
     "name": "stdout",
     "output_type": "stream",
     "text": [
      "[0, 50, 100, 150, 200, 250, 300, 350, 400, 450, 500, 550, 600, 650, 700, 750]\n"
     ]
    }
   ],
   "source": [
    "cleaned_cookies = []"
   ]
  },
  {
   "cell_type": "code",
   "execution_count": 60,
   "metadata": {
    "collapsed": false
   },
   "outputs": [],
   "source": [
    "x= cookies[1]"
   ]
  },
  {
   "cell_type": "code",
   "execution_count": 61,
   "metadata": {
    "collapsed": false
   },
   "outputs": [
    {
     "data": {
      "text/plain": [
       "False"
      ]
     },
     "execution_count": 61,
     "metadata": {},
     "output_type": "execute_result"
    }
   ],
   "source": [
    "\"?sort=\" in x"
   ]
  },
  {
   "cell_type": "code",
   "execution_count": 62,
   "metadata": {
    "collapsed": false
   },
   "outputs": [
    {
     "data": {
      "text/plain": [
       "0"
      ]
     },
     "execution_count": 62,
     "metadata": {},
     "output_type": "execute_result"
    }
   ],
   "source": [
    "x.find('/cookie/')"
   ]
  },
  {
   "cell_type": "code",
   "execution_count": 63,
   "metadata": {
    "collapsed": true
   },
   "outputs": [],
   "source": [
    "df = pd.Series(cookies)"
   ]
  },
  {
   "cell_type": "code",
   "execution_count": 64,
   "metadata": {
    "collapsed": false
   },
   "outputs": [
    {
     "data": {
      "text/plain": [
       "0                                      ?sort=message ASC\n",
       "1      /cookie/9632-Today-its-up-to-you-to-create-the...\n",
       "2      /cookie/9625-A-friend-asks-only-for-your-time-...\n",
       "3      /cookie/9619-If-you-refuse-to-accept-anything-...\n",
       "4      /cookie/9618-A-smile-is-your-passport-into-the...\n",
       "5      /cookie/9617-A-good-way-to-keep-healthy-is-to-...\n",
       "6      /cookie/9616-Your-high-minded-principles-spell...\n",
       "7      /cookie/9615-Hard-work-pays-off-in-the-future,...\n",
       "8      /cookie/9613-Change-can-hurt,-but-it-leads-a-p...\n",
       "9      /cookie/9610-Enjoy-the-good-luck-a-companion-b...\n",
       "10     /cookie/9597-People-are-naturally-attracted-to...\n",
       "11     /cookie/9596-Hidden-in-a-valley-beside-an-open...\n",
       "12     /cookie/9595-A-chance-meeting-opens-new-doors-...\n",
       "13     /cookie/9592-You-learn-from-your-mistakes...-Y...\n",
       "14     /cookie/9590-If-you-have-something-good-in-you...\n",
       "15     /cookie/9587-What-ever-youre-goal-is-in-life,-...\n",
       "16     /cookie/9586-Your-shoes-will-make-you-happy-to...\n",
       "17     /cookie/9584-You-cannot-love-life-until-you-li...\n",
       "18     /cookie/9573-Be-on-the-lookout-for-coming-even...\n",
       "19     /cookie/9572-Land-is-always-on-the-mind-of-a-f...\n",
       "20     /cookie/9565-The-man-or-woman-you-desire-feels...\n",
       "21     /cookie/9564-Meeting-adversity-well-is-the-sou...\n",
       "22         /cookie/9561-A-dream-you-have-will-come-true.\n",
       "23     /cookie/9559-Our-deeds-determine-us,-as-much-a...\n",
       "24     /cookie/9558-Never-give-up.-Youre-not-a-failur...\n",
       "25     /cookie/9555-You-will-become-great-if-you-beli...\n",
       "26     /cookie/9553-There-is-no-greater-pleasure-than...\n",
       "27               /cookie/9551-You-will-marry-your-lover.\n",
       "28     /cookie/9550-A-very-attractive-person-has-a-me...\n",
       "29     /cookie/9546-You-already-know-the-answer-to-th...\n",
       "                             ...                        \n",
       "786    /cookie/7841-You-have-a-curious-smile-and-a-my...\n",
       "787    /cookie/7840-Questions-provide-the-key-to-unlo...\n",
       "788    /cookie/7833-You-will-enjoy-razon-sharp-spirit...\n",
       "789    /cookie/7832-The-wise-are-aware-of-their-treas...\n",
       "790    /cookie/7831-Well-arranged-time-is-the-surest-...\n",
       "791    /cookie/7830-Never-bring-unhappy-feelings-into...\n",
       "792    /cookie/7829-This-is-really-a-lovely-day.-Cong...\n",
       "793    /cookie/7828-Bad-luck-and-ill-misfortune-will-...\n",
       "794    /cookie/7826-A-golden-egg-of-opportunity-falls...\n",
       "795    /cookie/7825-You-are-very-grateful-for-the-sma...\n",
       "796    /cookie/7824-today-you-should-be-a-passenger.-...\n",
       "797    /cookie/7823-For-hate-is-never-conquered-by-ha...\n",
       "798    /cookie/7822-Service-is-the-rent-we-pay-for-th...\n",
       "799    /cookie/7821-Good-clothes-open-many-doors.-Go-...\n",
       "800    /cookie/7820-The-leader-seeks-to-communicate-h...\n",
       "801    /cookie/7819-Great-works-are-performed-not-by-...\n",
       "802    /cookie/7818-People-who-are-late-are-often-hap...\n",
       "803    /cookie/7817-Present-your-best-ideas-today-to-...\n",
       "804    /cookie/7816-Friends-long-absent-are-coming-ba...\n",
       "805    /cookie/7815-The-time-is-right-to-make-new-fri...\n",
       "806    /cookie/88-Life-to-you-is-a-dashing-and-bold-a...\n",
       "807    /cookie/84-You-may-be-hungry-soon:-order-a-tak...\n",
       "808    /cookie/83-Do-not-hesitate-to-look-for-help,-a...\n",
       "809    /cookie/77-How-can-you-have-a-beautiful-ending...\n",
       "810        /cookie/76-Humor-is-an-affirmation-of-dignity\n",
       "811    /cookie/75-He-who-climbs-a-ladder-must-begin-a...\n",
       "812    /cookie/74-Whats-vice-today-may-be-virtue-tomo...\n",
       "813    /cookie/73-You-have-an-unusually-magnetic-pers...\n",
       "814           /cookie/72-You-will-travel-to-many-places.\n",
       "815                           /cookie/71-Accept-yourself\n",
       "dtype: object"
      ]
     },
     "execution_count": 64,
     "metadata": {},
     "output_type": "execute_result"
    }
   ],
   "source": [
    "df"
   ]
  },
  {
   "cell_type": "code",
   "execution_count": 68,
   "metadata": {
    "collapsed": false
   },
   "outputs": [],
   "source": [
    "df.replace('/cookie/','', regex=True, inplace=True)"
   ]
  },
  {
   "cell_type": "code",
   "execution_count": 70,
   "metadata": {
    "collapsed": false
   },
   "outputs": [],
   "source": [
    "df.replace('/?sort=message ASC', np.nan, regex=True, inplace=True)"
   ]
  },
  {
   "cell_type": "code",
   "execution_count": 72,
   "metadata": {
    "collapsed": false
   },
   "outputs": [],
   "source": [
    "df.dropna(inplace=True)"
   ]
  },
  {
   "cell_type": "code",
   "execution_count": 79,
   "metadata": {
    "collapsed": false
   },
   "outputs": [],
   "source": [
    "df.replace('[0-9]','',regex=True, inplace=True)"
   ]
  },
  {
   "cell_type": "code",
   "execution_count": 87,
   "metadata": {
    "collapsed": false
   },
   "outputs": [],
   "source": [
    "df = df.apply(lambda x: x[1:])"
   ]
  },
  {
   "cell_type": "code",
   "execution_count": 89,
   "metadata": {
    "collapsed": false
   },
   "outputs": [],
   "source": [
    "df = df.str.split('-')"
   ]
  },
  {
   "cell_type": "code",
   "execution_count": 91,
   "metadata": {
    "collapsed": false
   },
   "outputs": [
    {
     "name": "stdout",
     "output_type": "stream",
     "text": [
      "Collecting markovify\n",
      "  Downloading markovify-0.6.0.tar.gz\n",
      "Collecting unidecode (from markovify)\n",
      "  Downloading Unidecode-0.04.20-py2.py3-none-any.whl (228kB)\n",
      "\u001b[K    100% |████████████████████████████████| 235kB 1.7MB/s ta 0:00:011\n",
      "\u001b[?25hBuilding wheels for collected packages: markovify\n",
      "  Running setup.py bdist_wheel for markovify ... \u001b[?25l-\b \b\\\b \bdone\n",
      "\u001b[?25h  Stored in directory: /Users/mac/Library/Caches/pip/wheels/f8/50/bf/031d786be31faf97ab679aeefe7c0ec208973a5f5e1363ebe4\n",
      "Successfully built markovify\n",
      "Installing collected packages: unidecode, markovify\n",
      "Successfully installed markovify-0.6.0 unidecode-0.4.20\n"
     ]
    }
   ],
   "source": [
    "!pip install markovify"
   ]
  },
  {
   "cell_type": "code",
   "execution_count": 92,
   "metadata": {
    "collapsed": true
   },
   "outputs": [],
   "source": [
    "import markovify"
   ]
  },
  {
   "cell_type": "code",
   "execution_count": 96,
   "metadata": {
    "collapsed": false
   },
   "outputs": [],
   "source": [
    "df =df.str.join(' ')"
   ]
  },
  {
   "cell_type": "code",
   "execution_count": 105,
   "metadata": {
    "collapsed": false
   },
   "outputs": [],
   "source": [
    "string = ''\n",
    "for i in df:\n",
    "    string = string + i"
   ]
  },
  {
   "cell_type": "code",
   "execution_count": 106,
   "metadata": {
    "collapsed": false
   },
   "outputs": [],
   "source": [
    "text_model = markovify.Text(string)"
   ]
  },
  {
   "cell_type": "code",
   "execution_count": 111,
   "metadata": {
    "collapsed": false
   },
   "outputs": [
    {
     "name": "stdout",
     "output_type": "stream",
     "text": [
      "Dont forget about light!Acting is not a ghost.There is someone rather annoying in your background will be called to fill a position of high honor and responsibility.The man on the top one.Sometimes travel to many exotic places in your professional careerShare your hapiness with others today.Its up to you soon.In human endeavor, chance favors the prepared mind.Do not upset the driver of the human will.There are no limitations to the waiterI hear and I remember.\n"
     ]
    }
   ],
   "source": [
    "for i in range(1):\n",
    "    print(text_model.make_sentence())"
   ]
  },
  {
   "cell_type": "code",
   "execution_count": 112,
   "metadata": {
    "collapsed": false
   },
   "outputs": [
    {
     "name": "stdout",
     "output_type": "stream",
     "text": [
      "Either way, youll be right.Wisdom is on its way to you.A pleasant surprise is in always with you.\n",
      "Buy one to go to bed.Ideas you believe you can not have in life.Make a wise choice everyday.Circumstance does not get better by chance.\n",
      "Hate is conquered by hate.\n"
     ]
    }
   ],
   "source": [
    "for i in range(3):\n",
    "    print(text_model.make_short_sentence(140))"
   ]
  },
  {
   "cell_type": "code",
   "execution_count": null,
   "metadata": {
    "collapsed": true
   },
   "outputs": [],
   "source": []
  }
 ],
 "metadata": {
  "kernelspec": {
   "display_name": "Python 2",
   "language": "python",
   "name": "python2"
  },
  "language_info": {
   "codemirror_mode": {
    "name": "ipython",
    "version": 2
   },
   "file_extension": ".py",
   "mimetype": "text/x-python",
   "name": "python",
   "nbconvert_exporter": "python",
   "pygments_lexer": "ipython2",
   "version": "2.7.13"
  }
 },
 "nbformat": 4,
 "nbformat_minor": 2
}
