{
 "cells": [
  {
   "cell_type": "code",
   "execution_count": 1,
   "metadata": {
    "collapsed": true
   },
   "outputs": [],
   "source": [
    "import pandas as pd\n",
    "import numpy as np\n",
    "import requests\n",
    "from bs4 import BeautifulSoup\n",
    "import datetime"
   ]
  },
  {
   "cell_type": "code",
   "execution_count": 2,
   "metadata": {
    "collapsed": false
   },
   "outputs": [
    {
     "name": "stdout",
     "output_type": "stream",
     "text": [
      "start time: 2017-04-21 16:24:37.323294\n",
      "\n",
      "\n",
      "finish time: 2017-04-21 16:24:39.835142\n",
      "\n",
      "time elapsed: 0:00:02.511848\n"
     ]
    }
   ],
   "source": [
    "# scrape approx 800 fortune cookies\n",
    "\n",
    "glass_url_1 = 'http://www.fortunecookiemessage.com/archive.php?start='\n",
    "cookies = []\n",
    "\n",
    "start = datetime.datetime.now()\n",
    "print 'start time: %s\\n' %start\n",
    "\n",
    "for page in range(0,800,50):\n",
    "#     time.sleep(1.5)\n",
    "    r = requests.get(glass_url_1+str(page))\n",
    "    soup = BeautifulSoup(r.content, \"lxml\")\n",
    "    for i in soup.findAll('tr'):\n",
    "        cookie = i.find('a')['href']\n",
    "        cookies.append(cookie)\n",
    "        \n",
    "finish = datetime.datetime.now()\n",
    "print '\\nfinish time: %s' %finish\n",
    "print '\\ntime elapsed: %s' %(finish - start)"
   ]
  },
  {
   "cell_type": "code",
   "execution_count": 3,
   "metadata": {
    "collapsed": false
   },
   "outputs": [],
   "source": [
    "# clean the scrape"
   ]
  },
  {
   "cell_type": "code",
   "execution_count": 4,
   "metadata": {
    "collapsed": false
   },
   "outputs": [],
   "source": [
    "cleaned_cookies = []"
   ]
  },
  {
   "cell_type": "code",
   "execution_count": 5,
   "metadata": {
    "collapsed": false
   },
   "outputs": [],
   "source": [
    "x= cookies[1]"
   ]
  },
  {
   "cell_type": "code",
   "execution_count": 6,
   "metadata": {
    "collapsed": false
   },
   "outputs": [
    {
     "data": {
      "text/plain": [
       "False"
      ]
     },
     "execution_count": 6,
     "metadata": {},
     "output_type": "execute_result"
    }
   ],
   "source": [
    "\"?sort=\" in x"
   ]
  },
  {
   "cell_type": "code",
   "execution_count": 7,
   "metadata": {
    "collapsed": false
   },
   "outputs": [
    {
     "data": {
      "text/plain": [
       "0"
      ]
     },
     "execution_count": 7,
     "metadata": {},
     "output_type": "execute_result"
    }
   ],
   "source": [
    "x.find('/cookie/')"
   ]
  },
  {
   "cell_type": "code",
   "execution_count": 8,
   "metadata": {
    "collapsed": true
   },
   "outputs": [],
   "source": [
    "df = pd.Series(cookies)"
   ]
  },
  {
   "cell_type": "code",
   "execution_count": 9,
   "metadata": {
    "collapsed": false
   },
   "outputs": [
    {
     "data": {
      "text/plain": [
       "0                                      ?sort=message ASC\n",
       "1      /cookie/9632-Today-its-up-to-you-to-create-the...\n",
       "2      /cookie/9625-A-friend-asks-only-for-your-time-...\n",
       "3      /cookie/9619-If-you-refuse-to-accept-anything-...\n",
       "4      /cookie/9618-A-smile-is-your-passport-into-the...\n",
       "5      /cookie/9617-A-good-way-to-keep-healthy-is-to-...\n",
       "6      /cookie/9616-Your-high-minded-principles-spell...\n",
       "7      /cookie/9615-Hard-work-pays-off-in-the-future,...\n",
       "8      /cookie/9613-Change-can-hurt,-but-it-leads-a-p...\n",
       "9      /cookie/9610-Enjoy-the-good-luck-a-companion-b...\n",
       "10     /cookie/9597-People-are-naturally-attracted-to...\n",
       "11     /cookie/9596-Hidden-in-a-valley-beside-an-open...\n",
       "12     /cookie/9595-A-chance-meeting-opens-new-doors-...\n",
       "13     /cookie/9592-You-learn-from-your-mistakes...-Y...\n",
       "14     /cookie/9590-If-you-have-something-good-in-you...\n",
       "15     /cookie/9587-What-ever-youre-goal-is-in-life,-...\n",
       "16     /cookie/9586-Your-shoes-will-make-you-happy-to...\n",
       "17     /cookie/9584-You-cannot-love-life-until-you-li...\n",
       "18     /cookie/9573-Be-on-the-lookout-for-coming-even...\n",
       "19     /cookie/9572-Land-is-always-on-the-mind-of-a-f...\n",
       "20     /cookie/9565-The-man-or-woman-you-desire-feels...\n",
       "21     /cookie/9564-Meeting-adversity-well-is-the-sou...\n",
       "22         /cookie/9561-A-dream-you-have-will-come-true.\n",
       "23     /cookie/9559-Our-deeds-determine-us,-as-much-a...\n",
       "24     /cookie/9558-Never-give-up.-Youre-not-a-failur...\n",
       "25     /cookie/9555-You-will-become-great-if-you-beli...\n",
       "26     /cookie/9553-There-is-no-greater-pleasure-than...\n",
       "27               /cookie/9551-You-will-marry-your-lover.\n",
       "28     /cookie/9550-A-very-attractive-person-has-a-me...\n",
       "29     /cookie/9546-You-already-know-the-answer-to-th...\n",
       "                             ...                        \n",
       "786    /cookie/7841-You-have-a-curious-smile-and-a-my...\n",
       "787    /cookie/7840-Questions-provide-the-key-to-unlo...\n",
       "788    /cookie/7833-You-will-enjoy-razon-sharp-spirit...\n",
       "789    /cookie/7832-The-wise-are-aware-of-their-treas...\n",
       "790    /cookie/7831-Well-arranged-time-is-the-surest-...\n",
       "791    /cookie/7830-Never-bring-unhappy-feelings-into...\n",
       "792    /cookie/7829-This-is-really-a-lovely-day.-Cong...\n",
       "793    /cookie/7828-Bad-luck-and-ill-misfortune-will-...\n",
       "794    /cookie/7826-A-golden-egg-of-opportunity-falls...\n",
       "795    /cookie/7825-You-are-very-grateful-for-the-sma...\n",
       "796    /cookie/7824-today-you-should-be-a-passenger.-...\n",
       "797    /cookie/7823-For-hate-is-never-conquered-by-ha...\n",
       "798    /cookie/7822-Service-is-the-rent-we-pay-for-th...\n",
       "799    /cookie/7821-Good-clothes-open-many-doors.-Go-...\n",
       "800    /cookie/7820-The-leader-seeks-to-communicate-h...\n",
       "801    /cookie/7819-Great-works-are-performed-not-by-...\n",
       "802    /cookie/7818-People-who-are-late-are-often-hap...\n",
       "803    /cookie/7817-Present-your-best-ideas-today-to-...\n",
       "804    /cookie/7816-Friends-long-absent-are-coming-ba...\n",
       "805    /cookie/7815-The-time-is-right-to-make-new-fri...\n",
       "806    /cookie/88-Life-to-you-is-a-dashing-and-bold-a...\n",
       "807    /cookie/84-You-may-be-hungry-soon:-order-a-tak...\n",
       "808    /cookie/83-Do-not-hesitate-to-look-for-help,-a...\n",
       "809    /cookie/77-How-can-you-have-a-beautiful-ending...\n",
       "810        /cookie/76-Humor-is-an-affirmation-of-dignity\n",
       "811    /cookie/75-He-who-climbs-a-ladder-must-begin-a...\n",
       "812    /cookie/74-Whats-vice-today-may-be-virtue-tomo...\n",
       "813    /cookie/73-You-have-an-unusually-magnetic-pers...\n",
       "814           /cookie/72-You-will-travel-to-many-places.\n",
       "815                           /cookie/71-Accept-yourself\n",
       "dtype: object"
      ]
     },
     "execution_count": 9,
     "metadata": {},
     "output_type": "execute_result"
    }
   ],
   "source": [
    "df"
   ]
  },
  {
   "cell_type": "code",
   "execution_count": 10,
   "metadata": {
    "collapsed": false
   },
   "outputs": [],
   "source": [
    "df.replace('/cookie/','', regex=True, inplace=True)"
   ]
  },
  {
   "cell_type": "code",
   "execution_count": 11,
   "metadata": {
    "collapsed": false
   },
   "outputs": [],
   "source": [
    "df.replace('/?sort=message ASC', np.nan, regex=True, inplace=True)"
   ]
  },
  {
   "cell_type": "code",
   "execution_count": 12,
   "metadata": {
    "collapsed": false
   },
   "outputs": [],
   "source": [
    "df.dropna(inplace=True)"
   ]
  },
  {
   "cell_type": "code",
   "execution_count": 13,
   "metadata": {
    "collapsed": false
   },
   "outputs": [],
   "source": [
    "df.replace('[0-9]','',regex=True, inplace=True)"
   ]
  },
  {
   "cell_type": "code",
   "execution_count": 14,
   "metadata": {
    "collapsed": false
   },
   "outputs": [],
   "source": [
    "df = df.apply(lambda x: x[1:])"
   ]
  },
  {
   "cell_type": "code",
   "execution_count": 15,
   "metadata": {
    "collapsed": false
   },
   "outputs": [],
   "source": [
    "df = df.str.split('-')"
   ]
  },
  {
   "cell_type": "code",
   "execution_count": 16,
   "metadata": {
    "collapsed": false
   },
   "outputs": [
    {
     "name": "stdout",
     "output_type": "stream",
     "text": [
      "Requirement already satisfied: markovify in /anaconda/lib/python2.7/site-packages\r\n",
      "Requirement already satisfied: unidecode in /anaconda/lib/python2.7/site-packages (from markovify)\r\n"
     ]
    }
   ],
   "source": [
    "# markovify to build the model\n",
    "\n",
    "!pip install markovify"
   ]
  },
  {
   "cell_type": "code",
   "execution_count": 17,
   "metadata": {
    "collapsed": true
   },
   "outputs": [],
   "source": [
    "import markovify"
   ]
  },
  {
   "cell_type": "code",
   "execution_count": 18,
   "metadata": {
    "collapsed": false
   },
   "outputs": [],
   "source": [
    "df =df.str.join(' ')"
   ]
  },
  {
   "cell_type": "code",
   "execution_count": 31,
   "metadata": {
    "collapsed": false
   },
   "outputs": [],
   "source": [
    "string = ''\n",
    "for i in df:\n",
    "    string = string + i + str(' ')"
   ]
  },
  {
   "cell_type": "code",
   "execution_count": 32,
   "metadata": {
    "collapsed": false
   },
   "outputs": [],
   "source": [
    "text_model = markovify.Text(string)"
   ]
  },
  {
   "cell_type": "code",
   "execution_count": 38,
   "metadata": {
    "collapsed": false
   },
   "outputs": [
    {
     "name": "stdout",
     "output_type": "stream",
     "text": [
      "A human being is a worm you should be able to make tomorrow is never promised.\n",
      "Go confidently in the goodness of man kind.\n",
      "Live like you are right, stand firmly by your efforts you put in; you are judged on your performance.\n",
      "You will be rewarded.\n",
      "Now is the wake up call to the lives of others cannot keep it from themselves.\n"
     ]
    }
   ],
   "source": [
    "# examples\n",
    "\n",
    "for i in range(5):\n",
    "    print(text_model.make_sentence())"
   ]
  },
  {
   "cell_type": "code",
   "execution_count": 39,
   "metadata": {
    "collapsed": false
   },
   "outputs": [
    {
     "name": "stdout",
     "output_type": "stream",
     "text": [
      "Humor is an unpopular subject.\n",
      "Ask yourself if what you are; understand yourself before you react Word to the questions lingering inside your head.\n",
      "Listen to life, and you will be appearing to you to act a if you believe in yourself.\n"
     ]
    }
   ],
   "source": [
    "for i in range(3):\n",
    "    print(text_model.make_short_sentence(200))"
   ]
  },
  {
   "cell_type": "code",
   "execution_count": null,
   "metadata": {
    "collapsed": true
   },
   "outputs": [],
   "source": []
  }
 ],
 "metadata": {
  "kernelspec": {
   "display_name": "Python 2",
   "language": "python",
   "name": "python2"
  },
  "language_info": {
   "codemirror_mode": {
    "name": "ipython",
    "version": 2
   },
   "file_extension": ".py",
   "mimetype": "text/x-python",
   "name": "python",
   "nbconvert_exporter": "python",
   "pygments_lexer": "ipython2",
   "version": "2.7.13"
  }
 },
 "nbformat": 4,
 "nbformat_minor": 2
}
